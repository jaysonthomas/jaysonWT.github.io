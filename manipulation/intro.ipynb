{
 "cells": [
  {
   "cell_type": "markdown",
   "metadata": {
    "colab_type": "text",
    "id": "TKvYiJgnYExi"
   },
   "source": [
    "This notebook provides examples to go along with the [textbook](http://manipulation.csail.mit.edu/intro.html).  I recommend having both windows open, side-by-side!\n",
    "\n",
    "## Instructions for running this notebook on Deepnote\n",
    "\n",
    "- Log in (the free account will be sufficient for this class)\n",
    "- \"Duplicate\" the document.  Icon is in the top right next to Login. \n",
    "- Run all of the cells (can use the \"Run notebook\" icon just above this cell)\n",
    "- If a new \"MeshCat\" window does not open automatically, then click on the url printed just below \"StartMeshcat\" in the second code cell of the notebook.\n",
    "- In meshcat, click \"Open controls\" and use the sliders that appear to teleop.\n",
    "- When you're done, click the \"Stop Simulation\" button in meshcat.  This will move you to the second example..."
   ]
  },
  {
   "cell_type": "code",
   "execution_count": null,
   "metadata": {
    "colab": {},
    "colab_type": "code",
    "id": "A4QOaw_zYLfI"
   },
   "outputs": [],
   "source": [
    "import numpy as np\n",
    "from pydrake.examples.manipulation_station import ManipulationStation\n",
    "from pydrake.geometry import MeshcatVisualizer, StartMeshcat\n",
    "from pydrake.manipulation.planner import (\n",
    "    DifferentialInverseKinematicsIntegrator,\n",
    "    DifferentialInverseKinematicsParameters)\n",
    "from pydrake.math import RigidTransform, RotationMatrix\n",
    "from pydrake.systems.analysis import Simulator\n",
    "from pydrake.systems.framework import DiagramBuilder\n",
    "\n",
    "from manipulation import running_as_notebook\n",
    "from manipulation.meshcat_cpp_utils import MeshcatPoseSliders, WsgButton"
   ]
  },
  {
   "cell_type": "code",
   "execution_count": null,
   "metadata": {},
   "outputs": [],
   "source": [
    "# Start the visualizer.\n",
    "meshcat = StartMeshcat()"
   ]
  },
  {
   "cell_type": "markdown",
   "metadata": {
    "colab_type": "text",
    "id": "C1sdq2R88C16"
   },
   "source": [
    "# Teleop Example (2D)\n",
    "\n",
    "In this example, we assemble a diagram with all of the relevant subsystems (the manipulation station, the meshcat visualizer, and some systems that provide a minimal teleop interface and convert the teleop output from end-effector commands into joint commands.  We'll learn more about each of these components in the following chapters.\n",
    "\n",
    "**NOTE:** If you command the robot to move its gripper beyond what is possible, then you get a message about \"differential IK\" failing.  I've left that in for now (rather than setting very conservative slider limits) partly because it has tutorial value.  We'll understand it more precisely soon!  For now, just stop the simulation and rerun the cell if you get stuck.\n"
   ]
  },
  {
   "cell_type": "code",
   "execution_count": null,
   "metadata": {
    "colab": {},
    "colab_type": "code",
    "id": "7dimkJhd9DjP"
   },
   "outputs": [],
   "source": [
    "def teleop_2d():\n",
    "  builder = DiagramBuilder()\n",
    "\n",
    "  station = builder.AddSystem(ManipulationStation())\n",
    "  station.SetupPlanarIiwaStation()\n",
    "  station.AddManipulandFromFile(\n",
    "      \"drake/examples/manipulation_station/models/\"\n",
    "      + \"061_foam_brick.sdf\",\n",
    "      RigidTransform(RotationMatrix.Identity(), [0.6, 0, 0]))\n",
    "  # TODO(russt): Add planar joint to brick\n",
    "  station.Finalize()\n",
    "\n",
    "  visualizer = MeshcatVisualizer.AddToBuilder(\n",
    "      builder, station.GetOutputPort(\"query_object\"), meshcat)\n",
    "  meshcat.Set2dRenderMode()\n",
    "\n",
    "  robot = station.get_controller_plant()\n",
    "  params = DifferentialInverseKinematicsParameters(\n",
    "      robot.num_positions(), robot.num_velocities())\n",
    "\n",
    "  time_step = 0.005\n",
    "  params.set_timestep(time_step)\n",
    "  iiwa14_velocity_limits = np.array([1.4, 1.3, 2.3])\n",
    "  params.set_joint_velocity_limits((-iiwa14_velocity_limits,\n",
    "                                    iiwa14_velocity_limits))\n",
    "  # These constants are in body frame.\n",
    "  params.set_end_effector_velocity_gain([.1, 0, 0, 0, .1, .1])\n",
    "  differential_ik = builder.AddSystem(\n",
    "      DifferentialInverseKinematicsIntegrator(\n",
    "          robot, robot.GetFrameByName(\"iiwa_link_7\"), time_step, params))\n",
    "  builder.Connect(differential_ik.get_output_port(),\n",
    "                  station.GetInputPort(\"iiwa_position\"))\n",
    "\n",
    "  meshcat.DeleteAddedControls()\n",
    "  teleop = builder.AddSystem(MeshcatPoseSliders(meshcat,\n",
    "      min_range=MeshcatPoseSliders.MinRange(\n",
    "          roll=0, x=-0.6, z=0.0),\n",
    "      max_range=MeshcatPoseSliders.MaxRange(\n",
    "          roll=2*np.pi, x=0.8, z=1.1),\n",
    "      value=MeshcatPoseSliders.Value(pitch=0, yaw=0, y=0),\n",
    "      visible=MeshcatPoseSliders.Visible(pitch=False, yaw=False, y=False) \n",
    "  ))\n",
    "  builder.Connect(teleop.get_output_port(0), \n",
    "                  differential_ik.get_input_port())\n",
    "  wsg_teleop = builder.AddSystem(WsgButton(meshcat))\n",
    "  builder.Connect(wsg_teleop.get_output_port(0),\n",
    "                  station.GetInputPort(\"wsg_position\"))\n",
    "\n",
    "  diagram = builder.Build()\n",
    "  simulator = Simulator(diagram)\n",
    "  context = simulator.get_mutable_context()\n",
    "  station_context = station.GetMyMutableContextFromRoot(context)\n",
    "\n",
    "  q0 = station.GetOutputPort(\"iiwa_position_measured\").Eval(\n",
    "      station_context)\n",
    "  differential_ik.get_mutable_parameters().set_nominal_joint_position(q0)\n",
    "  diff_ik_context = differential_ik.GetMyMutableContextFromRoot(context)\n",
    "  differential_ik.SetPositions(diff_ik_context, q0)\n",
    "  teleop.SetPose(differential_ik.ForwardKinematics(diff_ik_context))\n",
    "\n",
    "  if running_as_notebook:  # Then we're not just running as a test on CI.\n",
    "      simulator.set_target_realtime_rate(1.0)\n",
    "\n",
    "      meshcat.AddButton(\"Stop Simulation\")\n",
    "      while meshcat.GetButtonClicks(\"Stop Simulation\") < 1:\n",
    "          simulator.AdvanceTo(simulator.get_context().get_time() + 2.0)\n",
    "      meshcat.DeleteButton(\"Stop Simulation\")\n",
    "\n",
    "  else:\n",
    "      simulator.AdvanceTo(0.1)\n",
    "\n",
    "teleop_2d()\n"
   ]
  },
  {
   "cell_type": "markdown",
   "metadata": {
    "colab_type": "text",
    "id": "4cTkwpJU8tGX"
   },
   "source": [
    "# Teleop Example (3D)\n",
    "\n",
    "The physics and geometry engines running in the simulation above are actually running in 3D.  This example is almost identical, but we'll use the (default) 3D visualization and add more sliders for controlling the full `roll`, `pitch`, `yaw` angles and `x`, `y`, `z` positions of the end effector."
   ]
  },
  {
   "cell_type": "code",
   "execution_count": null,
   "metadata": {
    "colab": {},
    "colab_type": "code",
    "id": "8wj7ZlyEw_AB"
   },
   "outputs": [],
   "source": [
    "def teleop_3d():\n",
    "    builder = DiagramBuilder()\n",
    "\n",
    "    station = builder.AddSystem(ManipulationStation())\n",
    "\n",
    "    station.SetupClutterClearingStation()\n",
    "    #ycb_objects = CreateClutterClearingYcbObjectList()\n",
    "    #for model_file, X_WObject in ycb_objects:\n",
    "    #    station.AddManipulandFromFile(model_file, X_WObject)\n",
    "    station.AddManipulandFromFile(\n",
    "        \"drake/examples/manipulation_station/models/\"\n",
    "        + \"061_foam_brick.sdf\",\n",
    "        RigidTransform(RotationMatrix.Identity(), [0, -0.6, 0.2]))\n",
    "    station.Finalize()\n",
    "\n",
    "    visualizer = MeshcatVisualizer.AddToBuilder(\n",
    "        builder, station.GetOutputPort(\"query_object\"), meshcat)\n",
    "    meshcat.ResetRenderMode()\n",
    "\n",
    "    robot = station.get_controller_plant()\n",
    "    params = DifferentialInverseKinematicsParameters(\n",
    "        robot.num_positions(), robot.num_velocities())\n",
    "\n",
    "    time_step = 0.005\n",
    "    params.set_timestep(time_step)\n",
    "    # True velocity limits for the IIWA14 (in rad, rounded down to the first\n",
    "    # decimal)\n",
    "    iiwa14_velocity_limits = np.array([1.4, 1.4, 1.7, 1.3, 2.2, 2.3, 2.3])\n",
    "    params.set_joint_velocity_limits((-iiwa14_velocity_limits,\n",
    "                                    iiwa14_velocity_limits))\n",
    "    params.set_end_effector_velocity_gain([.1]*6)\n",
    "    differential_ik = builder.AddSystem(DifferentialInverseKinematicsIntegrator(\n",
    "            robot, robot.GetFrameByName(\"iiwa_link_7\"), time_step, params))\n",
    "    builder.Connect(differential_ik.get_output_port(),\n",
    "                    station.GetInputPort(\"iiwa_position\"))\n",
    "\n",
    "    meshcat.DeleteAddedControls()\n",
    "    teleop = builder.AddSystem(MeshcatPoseSliders(meshcat,\n",
    "        min_range = MeshcatPoseSliders.MinRange(\n",
    "            roll=0, pitch=-0.5, yaw=-np.pi, x=-0.6, y=-0.8, z=0.0),\n",
    "        max_range = MeshcatPoseSliders.MaxRange(\n",
    "            roll=2*np.pi, pitch=np.pi, yaw=np.pi, x=0.8, y=0.3, z=1.1)\n",
    "    ))\n",
    "    builder.Connect(teleop.get_output_port(0), \n",
    "                    differential_ik.get_input_port())\n",
    "    wsg_teleop = builder.AddSystem(WsgButton(meshcat))\n",
    "    builder.Connect(wsg_teleop.get_output_port(0),\n",
    "                    station.GetInputPort(\"wsg_position\"))\n",
    "\n",
    "    diagram = builder.Build()\n",
    "    simulator = Simulator(diagram)\n",
    "    context = simulator.get_mutable_context()\n",
    "\n",
    "    station_context = station.GetMyMutableContextFromRoot(context)\n",
    "\n",
    "    q0 = station.GetOutputPort(\"iiwa_position_measured\").Eval(\n",
    "        station_context)\n",
    "    differential_ik.get_mutable_parameters().set_nominal_joint_position(q0)\n",
    "    diff_ik_context = differential_ik.GetMyMutableContextFromRoot(context)\n",
    "    differential_ik.SetPositions(diff_ik_context, q0)\n",
    "    teleop.SetPose(differential_ik.ForwardKinematics(diff_ik_context))\n",
    "\n",
    "    if running_as_notebook:  # Then we're not just running as a test on CI.\n",
    "        simulator.set_target_realtime_rate(1.0)\n",
    "\n",
    "        meshcat.AddButton(\"Stop Simulation\")\n",
    "        while meshcat.GetButtonClicks(\"Stop Simulation\") < 1:\n",
    "            simulator.AdvanceTo(simulator.get_context().get_time() + 2.0)\n",
    "        meshcat.DeleteButton(\"Stop Simulation\")\n",
    "    \n",
    "    else:\n",
    "        simulator.AdvanceTo(0.1)\n",
    "\n",
    "teleop_3d()"
   ]
  },
  {
   "cell_type": "code",
   "execution_count": null,
   "metadata": {},
   "outputs": [],
   "source": []
  }
 ],
 "metadata": {
  "colab": {
   "collapsed_sections": [],
   "name": "Robotic Manipulation - Introduction.ipynb",
   "provenance": [],
   "toc_visible": true
  },
  "interpreter": {
   "hash": "31f2aee4e71d21fbe5cf8b01ff0e069b9275f58929596ceb00d14d90e3e16cd6"
  },
  "kernelspec": {
   "display_name": "Python 3 (ipykernel)",
   "language": "python",
   "name": "python3"
  },
  "language_info": {
   "codemirror_mode": {
    "name": "ipython",
    "version": 3
   },
   "file_extension": ".py",
   "mimetype": "text/x-python",
   "name": "python",
   "nbconvert_exporter": "python",
   "pygments_lexer": "ipython3",
   "version": "3.8.13"
  }
 },
 "nbformat": 4,
 "nbformat_minor": 2
}
